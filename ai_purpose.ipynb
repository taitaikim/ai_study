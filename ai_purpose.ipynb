{
  "nbformat": 4,
  "nbformat_minor": 0,
  "metadata": {
    "colab": {
      "name": "Untitled0.ipynb",
      "provenance": [],
      "collapsed_sections": [],
      "authorship_tag": "ABX9TyN2KoE97yC6GypWHfCnuwyI",
      "include_colab_link": true
    },
    "kernelspec": {
      "name": "python3",
      "display_name": "Python 3"
    }
  },
  "cells": [
    {
      "cell_type": "markdown",
      "metadata": {
        "id": "view-in-github",
        "colab_type": "text"
      },
      "source": [
        "<a href=\"https://colab.research.google.com/github/taitaikim/ai_study/blob/master/ai_purpose.ipynb\" target=\"_parent\"><img src=\"https://colab.research.google.com/assets/colab-badge.svg\" alt=\"Open In Colab\"/></a>"
      ]
    },
    {
      "cell_type": "markdown",
      "metadata": {
        "id": "gqQaBjh_J5fv",
        "colab_type": "text"
      },
      "source": [
        "\n",
        "\n",
        "# **상용화된 AI기술** \n",
        "\n",
        "**언어부분**\\\n",
        "IBM사는 인공지능 솔루션 '왓슨'에 토론형 AI 기술 '프로젝트 디베이터'를 넣어 상용화하였다. \"프로젝트 디베이터의 핵심 기술은 '자연어 처리'(NLP) 기술로 인간의 감정까지 파악해 40만 개가 넘는 논거와 이를 뒷받침하는 이야기를 만들 수 있다.\n",
        "\n",
        "**음성부분** \\\n",
        "  AI스피커 등 카카오i 플랫폼에 기존보다 3배 빠른 문자음성변환(TTS) 기술을 적용했다고 밝혔다. AI가 방금 보도된 뉴스속보도 아나운서처럼 자연스럽게 읽어 준다. 또한, 글자뿐만 아니라 단어가 담고 있는 의미를 살릴 수 있도록 정교한 음성 합성 모델을 개발한 것이 핵심”이라면서 “다양한 상황에서 취득한 데이터를 학습에 잘 활용하도록 소리 데이터에서 음성만 분리·정제하는 기술을 고도화하는 연구를 지속할 것임.\n",
        "\n",
        "  \n",
        "**이미지부분** \\\n",
        "1.국내:실시간 영상에서 원하는 상황과 물체를 식별하는 CCTV '마인드아이' \\\n",
        "2.중국:안면인식 기술을 통해 10년 전 잃어버린 아이를 찾은 부부의 사연  \\\n",
        "3.마이크로소프트사의 씨잉 AI는 시각장애인의 인공 눈 역할이 되어 주변 환경과  인물·사물·글자·이미지 등을 알려주며, 주변 사람의 성별과 나이·행동·감정상태 등을 분석해 설명한다.\n",
        "\n",
        "\n",
        "**자율주행부분**  \\\n",
        "\n",
        "1.국내동향 \\\n",
        "현대기아차, 주행성향(차 간 거리, 가속성, 반응성)을 고려하는 SCC-ML 개발\n",
        "게다가 안전운전을 크게 벗어난 주행성향은 따르지 않도록 설정돼 있어서 신뢰성을 높였으며, 레벨 2.5 수준을 구현한다. \n",
        "\n",
        "2.해외동향 \\\n",
        "운전자의 주의가 필요하지 않은 레벨4 자율주행 트럭 \n",
        "\n",
        "\n",
        "\n",
        "# 학습 목표\n",
        "\n",
        "언어, 음성, 이미지, 자율주행 AI기술은 한가지 분야에 국한되어 있지 않고 다양한 플랫폼에 활용될 수 있는 기술이다. \n",
        "\n",
        "1. Python 뿐만아니라 통계학도 학습하여 대량의 데이터의 상관관계를 분석하여 의미 있는 정보로 전환할 것이다.\n",
        "\n",
        "2. 수학적 지식으로 기반으로 LTLM,CNN 머신러닝 알고리즘 원리를 파악할 것\n",
        "\n",
        "3. 전자공학 전공지식을 기반으로 자율주행차의 핵심요소인 지능형운전자보조시스템(ADAS)를 구현\n",
        "\n",
        "이미지 처리, 음성 인식, 자연어 처리 등에서 최근 가장 각광받는 방식은 GAN으로, 초개인화가 가능해져 빅데이터의 가치는 더욱 상승하고 있다. 이 때문에 최종적으로 GAN 알고리즘을 제대로 분석 및 활용하여 고부가가치로 이어지는 서비스를 창출하고 싶다. \n",
        "\n",
        "\n"
      ]
    }
  ]
}